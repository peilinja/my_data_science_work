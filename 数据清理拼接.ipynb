{
 "cells": [
  {
   "cell_type": "code",
   "execution_count": 1,
   "metadata": {},
   "outputs": [],
   "source": [
    "import pandas as pd\n",
    "import numpy as np"
   ]
  },
  {
   "cell_type": "code",
   "execution_count": 21,
   "metadata": {},
   "outputs": [],
   "source": [
    "\n",
    "route = r\"C:\\Users\\Administrator\\Desktop\\IcuNonOperation_ZJ_HZ_ZEYY_2020_05_19_15_53_29_740 (2)\\数据分析\\滨江ICU\\滨江综合ICU_2020_05_19_15_53_29_745.xlsx\"\n"
   ]
  },
  {
   "cell_type": "code",
   "execution_count": 22,
   "metadata": {},
   "outputs": [
    {
     "output_type": "execute_result",
     "data": {
      "text/plain": "(1184, 27)"
     },
     "metadata": {},
     "execution_count": 22
    }
   ],
   "source": [
    "df=pd.read_excel(route)\n",
    "df.shape"
   ]
  },
  {
   "cell_type": "code",
   "execution_count": 23,
   "metadata": {},
   "outputs": [
    {
     "output_type": "execute_result",
     "data": {
      "text/plain": "                   RCASEID      CASEID  入院天数   住院科室名称  住院ICU病区名称  患者年龄 入院诊断  \\\n0  CIID1653718061744732267  1206717(3)     1  滨江综合ICU  滨江综合ICU病区    54  脑出血   \n1  CIID1653718061744732267  1206717(3)     2  滨江综合ICU  滨江综合ICU病区    54  脑出血   \n2  CIID1653718061744732267  1206717(3)     3  滨江综合ICU  滨江综合ICU病区    54  脑出血   \n3  CIID1653718061744732267  1206717(3)     4  滨江综合ICU  滨江综合ICU病区    54  脑出血   \n4  CIID1653718061744732267  1206717(3)     5  滨江综合ICU  滨江综合ICU病区    54  脑出血   \n\n       血糖测定值  住院时间    ICU科室时间  ...   CRP     抗菌药物[数量]     抗菌药物[权重]  \\\n0        NaN   1.0  1010101.0  ...   NaN          NaN          NaN   \n1       8.60   NaN        NaN  ...   9.2  [+]头孢哌酮钠舒巴坦  [+]头孢哌酮钠舒巴坦   \n2  6.95,7.00   NaN        NaN  ...  26.8     头孢哌酮钠舒巴坦     头孢哌酮钠舒巴坦   \n3  9.44,9.60   NaN      101.0  ...  24.7     头孢哌酮钠舒巴坦     头孢哌酮钠舒巴坦   \n4  7.40,7.05   NaN        NaN  ...  14.8     头孢哌酮钠舒巴坦     头孢哌酮钠舒巴坦   \n\n                                           非抗菌药物[数量]  \\\n0  (爱全乐雾化液)吸入用异丙托溴铵溶液,吸入用布地奈德混悬液(普米克令舒),氯化钠注射液,硫酸...   \n1  [+](爱全乐雾化液)吸入用异丙托溴铵溶液,(申捷 蓝瓶)神经节苷脂钠注射液,(米雅散)口服...   \n2  [-](爱全乐雾化液)吸入用异丙托溴铵溶液,(申捷 蓝瓶)神经节苷脂钠注射液,(米雅散)口服...   \n3  [+](爱全乐雾化液)吸入用异丙托溴铵溶液,(申捷 蓝瓶)神经节苷脂钠注射液,(米雅散)口服...   \n4  [-](爱全乐雾化液)吸入用异丙托溴铵溶液,(申捷 蓝瓶)神经节苷脂钠注射液,(米雅散)口服...   \n\n                                           非抗菌药物[权重] 是否呼吸机 是否留置导尿 是否中心静脉插管  \\\n0  (爱全乐雾化液)吸入用异丙托溴铵溶液,吸入用布地奈德混悬液(普米克令舒),氯化钠注射液,硫酸...     1      0        0   \n1  [+](爱全乐雾化液)吸入用异丙托溴铵溶液,(申捷 蓝瓶)神经节苷脂钠注射液,(米雅散)口服...     1      0        0   \n2  [-](爱全乐雾化液)吸入用异丙托溴铵溶液,(申捷 蓝瓶)神经节苷脂钠注射液,(米雅散)口服...     1      0        0   \n3  [+](爱全乐雾化液)吸入用异丙托溴铵溶液,(申捷 蓝瓶)神经节苷脂钠注射液,(米雅散)口服...     1      0        0   \n4  [-](爱全乐雾化液)吸入用异丙托溴铵溶液,(申捷 蓝瓶)神经节苷脂钠注射液,(米雅散)口服...     1      0        0   \n\n  NIS感染  血白细胞  \n0     0   NaN  \n1     0  12.0  \n2     0   7.3  \n3     0   4.6  \n4     0   5.3  \n\n[5 rows x 27 columns]",
      "text/html": "<div>\n<style scoped>\n    .dataframe tbody tr th:only-of-type {\n        vertical-align: middle;\n    }\n\n    .dataframe tbody tr th {\n        vertical-align: top;\n    }\n\n    .dataframe thead th {\n        text-align: right;\n    }\n</style>\n<table border=\"1\" class=\"dataframe\">\n  <thead>\n    <tr style=\"text-align: right;\">\n      <th></th>\n      <th>RCASEID</th>\n      <th>CASEID</th>\n      <th>入院天数</th>\n      <th>住院科室名称</th>\n      <th>住院ICU病区名称</th>\n      <th>患者年龄</th>\n      <th>入院诊断</th>\n      <th>血糖测定值</th>\n      <th>住院时间</th>\n      <th>ICU科室时间</th>\n      <th>...</th>\n      <th>CRP</th>\n      <th>抗菌药物[数量]</th>\n      <th>抗菌药物[权重]</th>\n      <th>非抗菌药物[数量]</th>\n      <th>非抗菌药物[权重]</th>\n      <th>是否呼吸机</th>\n      <th>是否留置导尿</th>\n      <th>是否中心静脉插管</th>\n      <th>NIS感染</th>\n      <th>血白细胞</th>\n    </tr>\n  </thead>\n  <tbody>\n    <tr>\n      <th>0</th>\n      <td>CIID1653718061744732267</td>\n      <td>1206717(3)</td>\n      <td>1</td>\n      <td>滨江综合ICU</td>\n      <td>滨江综合ICU病区</td>\n      <td>54</td>\n      <td>脑出血</td>\n      <td>NaN</td>\n      <td>1.0</td>\n      <td>1010101.0</td>\n      <td>...</td>\n      <td>NaN</td>\n      <td>NaN</td>\n      <td>NaN</td>\n      <td>(爱全乐雾化液)吸入用异丙托溴铵溶液,吸入用布地奈德混悬液(普米克令舒),氯化钠注射液,硫酸...</td>\n      <td>(爱全乐雾化液)吸入用异丙托溴铵溶液,吸入用布地奈德混悬液(普米克令舒),氯化钠注射液,硫酸...</td>\n      <td>1</td>\n      <td>0</td>\n      <td>0</td>\n      <td>0</td>\n      <td>NaN</td>\n    </tr>\n    <tr>\n      <th>1</th>\n      <td>CIID1653718061744732267</td>\n      <td>1206717(3)</td>\n      <td>2</td>\n      <td>滨江综合ICU</td>\n      <td>滨江综合ICU病区</td>\n      <td>54</td>\n      <td>脑出血</td>\n      <td>8.60</td>\n      <td>NaN</td>\n      <td>NaN</td>\n      <td>...</td>\n      <td>9.2</td>\n      <td>[+]头孢哌酮钠舒巴坦</td>\n      <td>[+]头孢哌酮钠舒巴坦</td>\n      <td>[+](爱全乐雾化液)吸入用异丙托溴铵溶液,(申捷 蓝瓶)神经节苷脂钠注射液,(米雅散)口服...</td>\n      <td>[+](爱全乐雾化液)吸入用异丙托溴铵溶液,(申捷 蓝瓶)神经节苷脂钠注射液,(米雅散)口服...</td>\n      <td>1</td>\n      <td>0</td>\n      <td>0</td>\n      <td>0</td>\n      <td>12.0</td>\n    </tr>\n    <tr>\n      <th>2</th>\n      <td>CIID1653718061744732267</td>\n      <td>1206717(3)</td>\n      <td>3</td>\n      <td>滨江综合ICU</td>\n      <td>滨江综合ICU病区</td>\n      <td>54</td>\n      <td>脑出血</td>\n      <td>6.95,7.00</td>\n      <td>NaN</td>\n      <td>NaN</td>\n      <td>...</td>\n      <td>26.8</td>\n      <td>头孢哌酮钠舒巴坦</td>\n      <td>头孢哌酮钠舒巴坦</td>\n      <td>[-](爱全乐雾化液)吸入用异丙托溴铵溶液,(申捷 蓝瓶)神经节苷脂钠注射液,(米雅散)口服...</td>\n      <td>[-](爱全乐雾化液)吸入用异丙托溴铵溶液,(申捷 蓝瓶)神经节苷脂钠注射液,(米雅散)口服...</td>\n      <td>1</td>\n      <td>0</td>\n      <td>0</td>\n      <td>0</td>\n      <td>7.3</td>\n    </tr>\n    <tr>\n      <th>3</th>\n      <td>CIID1653718061744732267</td>\n      <td>1206717(3)</td>\n      <td>4</td>\n      <td>滨江综合ICU</td>\n      <td>滨江综合ICU病区</td>\n      <td>54</td>\n      <td>脑出血</td>\n      <td>9.44,9.60</td>\n      <td>NaN</td>\n      <td>101.0</td>\n      <td>...</td>\n      <td>24.7</td>\n      <td>头孢哌酮钠舒巴坦</td>\n      <td>头孢哌酮钠舒巴坦</td>\n      <td>[+](爱全乐雾化液)吸入用异丙托溴铵溶液,(申捷 蓝瓶)神经节苷脂钠注射液,(米雅散)口服...</td>\n      <td>[+](爱全乐雾化液)吸入用异丙托溴铵溶液,(申捷 蓝瓶)神经节苷脂钠注射液,(米雅散)口服...</td>\n      <td>1</td>\n      <td>0</td>\n      <td>0</td>\n      <td>0</td>\n      <td>4.6</td>\n    </tr>\n    <tr>\n      <th>4</th>\n      <td>CIID1653718061744732267</td>\n      <td>1206717(3)</td>\n      <td>5</td>\n      <td>滨江综合ICU</td>\n      <td>滨江综合ICU病区</td>\n      <td>54</td>\n      <td>脑出血</td>\n      <td>7.40,7.05</td>\n      <td>NaN</td>\n      <td>NaN</td>\n      <td>...</td>\n      <td>14.8</td>\n      <td>头孢哌酮钠舒巴坦</td>\n      <td>头孢哌酮钠舒巴坦</td>\n      <td>[-](爱全乐雾化液)吸入用异丙托溴铵溶液,(申捷 蓝瓶)神经节苷脂钠注射液,(米雅散)口服...</td>\n      <td>[-](爱全乐雾化液)吸入用异丙托溴铵溶液,(申捷 蓝瓶)神经节苷脂钠注射液,(米雅散)口服...</td>\n      <td>1</td>\n      <td>0</td>\n      <td>0</td>\n      <td>0</td>\n      <td>5.3</td>\n    </tr>\n  </tbody>\n</table>\n<p>5 rows × 27 columns</p>\n</div>"
     },
     "metadata": {},
     "execution_count": 23
    }
   ],
   "source": [
    "df.head(5)"
   ]
  },
  {
   "cell_type": "code",
   "execution_count": 24,
   "metadata": {},
   "outputs": [
    {
     "output_type": "execute_result",
     "data": {
      "text/plain": "Index(['RCASEID', 'CASEID', '入院天数', '住院科室名称', '住院ICU病区名称', '患者年龄', '入院诊断',\n       '血糖测定值', '住院时间', 'ICU科室时间', 'ICU病区时间', '菌检出', '每日体温最高值', '每日体温最低值',\n       '尿白细胞', '脑脊液白细胞', '血中性粒细胞', 'CRP', '抗菌药物[数量]', '抗菌药物[权重]', '非抗菌药物[数量]',\n       '非抗菌药物[权重]', '是否呼吸机', '是否留置导尿', '是否中心静脉插管', 'NIS感染', '血白细胞'],\n      dtype='object')"
     },
     "metadata": {},
     "execution_count": 24
    }
   ],
   "source": [
    "df.columns"
   ]
  },
  {
   "cell_type": "code",
   "execution_count": 25,
   "metadata": {},
   "outputs": [
    {
     "output_type": "execute_result",
     "data": {
      "text/plain": "array(['36.9', '38.1', '37.2', '37.3', '37.4', '37.0', '36.1', '/',\n       '39.2', '37.9', '37.6', '38.0', '38.5', '37.5', '37.1', '37.7',\n       '38.6', '38.8', '38.3', '39.7', '37.8', '38.2', '38.4', '38.7',\n       '36.8', '36.2', '36.5', '35.5', '36.6', '36.7', '39.1', '38.9',\n       '39.0', '36.4', '36.3', '39.3', '39.4', '36.0', '34.6', '35.4',\n       '39.8', '39.5', '39.6', '35.9', '35.3', '40.2'], dtype=object)"
     },
     "metadata": {},
     "execution_count": 25
    }
   ],
   "source": [
    "df['每日体温最高值'].unique()"
   ]
  },
  {
   "cell_type": "code",
   "execution_count": 26,
   "metadata": {},
   "outputs": [],
   "source": [
    "#替换行中的/为空值\n",
    "df.replace(\"/\", np.nan, inplace = True)\n"
   ]
  },
  {
   "cell_type": "code",
   "execution_count": 27,
   "metadata": {},
   "outputs": [
    {
     "output_type": "execute_result",
     "data": {
      "text/plain": "array(['36.9', '38.1', '37.2', '37.3', '37.4', '37.0', '36.1', nan,\n       '39.2', '37.9', '37.6', '38.0', '38.5', '37.5', '37.1', '37.7',\n       '38.6', '38.8', '38.3', '39.7', '37.8', '38.2', '38.4', '38.7',\n       '36.8', '36.2', '36.5', '35.5', '36.6', '36.7', '39.1', '38.9',\n       '39.0', '36.4', '36.3', '39.3', '39.4', '36.0', '34.6', '35.4',\n       '39.8', '39.5', '39.6', '35.9', '35.3', '40.2'], dtype=object)"
     },
     "metadata": {},
     "execution_count": 27
    }
   ],
   "source": [
    "df['每日体温最高值'].unique()"
   ]
  },
  {
   "cell_type": "code",
   "execution_count": 28,
   "metadata": {},
   "outputs": [],
   "source": [
    "df['每日体温最高值']=df['每日体温最高值'].astype(float)"
   ]
  },
  {
   "cell_type": "code",
   "execution_count": 48,
   "metadata": {},
   "outputs": [
    {
     "output_type": "execute_result",
     "data": {
      "text/plain": "RCASEID       object\nCASEID        object\n入院天数           int64\n住院科室名称        object\n住院病区名称        object\n住院ICU科室名称    float64\n住院ICU病区名称    float64\n患者年龄           int64\n入院诊断          object\n出院方式         float64\n血糖测定值         object\n住院时间         float64\nICU科室时间      float64\nICU病区时间      float64\n菌检出           object\n每日体温最高值      float64\n每日体温最低值       object\n血白细胞          object\n尿白细胞          object\n脑脊液白细胞       float64\n血中性粒细胞        object\nCRP           object\n抗菌药物[数量]      object\n抗菌药物[权重]      object\n非抗菌药物[数量]     object\n非抗菌药物[权重]     object\n是否呼吸机          int64\n是否留置导尿         int64\n是否中心静脉插管       int64\nNIS感染          int64\n目录科室或病区      float64\ndtype: object"
     },
     "metadata": {},
     "execution_count": 48
    }
   ],
   "source": [
    "df.dtypes"
   ]
  },
  {
   "cell_type": "code",
   "execution_count": 29,
   "metadata": {},
   "outputs": [
    {
     "output_type": "execute_result",
     "data": {
      "text/plain": "(36, 27)"
     },
     "metadata": {},
     "execution_count": 29
    }
   ],
   "source": [
    "df2=df.loc[(df['入院天数']<4)&(df['每日体温最高值']>=38)]\n",
    "df2.shape"
   ]
  },
  {
   "cell_type": "code",
   "execution_count": 30,
   "metadata": {},
   "outputs": [
    {
     "output_type": "execute_result",
     "data": {
      "text/plain": "array([38.1, 38.6, 38.8, 38.3, 39.1, 38.9, 39.3, 39.4, 39. , 38.5, 38. ,\n       38.4, 38.2, 40.2])"
     },
     "metadata": {},
     "execution_count": 30
    }
   ],
   "source": [
    "df2['每日体温最高值'].unique()"
   ]
  },
  {
   "cell_type": "code",
   "execution_count": 31,
   "metadata": {},
   "outputs": [
    {
     "output_type": "execute_result",
     "data": {
      "text/plain": "array([nan, '[+]头孢哌酮钠舒巴坦', '头孢哌酮钠舒巴坦', '[-]', '[+]哌拉西林钠他唑巴坦', '哌拉西林钠他唑巴坦',\n       '拉氧头孢', '[+]亚胺培南/西司他丁,拉氧头孢', '[-]亚胺培南/西司他丁', '亚胺培南/西司他丁',\n       '[+]万古霉素,亚胺培南/西司他丁', '万古霉素,亚胺培南/西司他丁', '[+]亚胺培南/西司他丁,头孢呋辛',\n       '[+]亚胺培南/西司他丁,利奈唑胺', '亚胺培南/西司他丁,利奈唑胺', '[-]利奈唑胺', '[+]亚胺培南/西司他丁',\n       '[-]亚胺培南/西司他丁,头孢米诺', '[-]头孢米诺', '[+]亚胺培南/西司他丁,头孢米诺', '替加环素',\n       '[-]头孢哌酮钠舒巴坦,替加环素', '[-]头孢哌酮钠舒巴坦', '[+]头孢哌酮钠舒巴坦,左氧氟沙星',\n       '头孢哌酮钠舒巴坦,左氧氟沙星', '[+]头孢哌酮钠舒巴坦,左氧氟沙星,美罗培南,阿米卡星', '[-]美罗培南,阿米卡星',\n       '美罗培南,阿米卡星', '[+]哌拉西林钠他唑巴坦,美罗培南,阿米卡星', '[-]哌拉西林钠他唑巴坦,阿米卡星',\n       '哌拉西林钠他唑巴坦,阿米卡星', '美罗培南', '[+]米诺环素,美罗培南', '米诺环素,美罗培南', '[-]米诺环素',\n       '米诺环素', '[+]亚胺培南/西司他丁,美罗培南,阿米卡星', '[+][-]亚胺培南/西司他丁,替加环素',\n       '亚胺培南/西司他丁,替加环素', '[-]万古霉素,替加环素', '万古霉素,替加环素', '[-]替加环素',\n       '头孢哌酮钠舒巴坦,阿米卡星', '[+]头孢哌酮钠舒巴坦,替加环素,阿米卡星', '头孢哌酮钠舒巴坦,替加环素,阿米卡星',\n       '[+][-]亚胺培南/西司他丁,卡泊芬净,头孢哌酮钠舒巴坦,替加环素', '[+]亚胺培南/西司他丁,头孢哌酮钠舒巴坦',\n       '[+]莫西沙星', '莫西沙星', '[+]头孢他啶', '头孢他啶', '[+]头孢他啶,左氧氟沙星',\n       '头孢他啶,左氧氟沙星', '[+]亚胺培南/西司他丁,美罗培南', '[-]左氧氟沙星', '左氧氟沙星', '头孢呋辛',\n       '[+]头孢呋辛,阿米卡星', '[+]头孢呋辛,头孢哌酮钠舒巴坦,阿米卡星', '[-]头孢哌酮钠舒巴坦,阿米卡星',\n       '[+]头孢哌酮钠舒巴坦,替考拉宁,阿米卡星', '头孢哌酮钠舒巴坦,替考拉宁,阿米卡星', '[-]头孢哌酮钠舒巴坦,替考拉宁',\n       '头孢哌酮钠舒巴坦,替考拉宁', '[+]头孢哌酮钠舒巴坦,替加环素,替考拉宁',\n       '[+]头孢哌酮钠舒巴坦,替加环素,替考拉宁,美罗培南', '[-]替考拉宁,美罗培南', '替考拉宁,美罗培南',\n       '[+]头孢呋辛', '[+]哌拉西林钠他唑巴坦,头孢呋辛', '[-]哌拉西林钠他唑巴坦', '[+]制霉菌素',\n       '[+]制霉菌素,头孢哌酮钠舒巴坦', '[-]哌拉西林钠他唑巴坦,头孢哌酮钠舒巴坦', '[+]卡泊芬净,哌拉西林钠他唑巴坦',\n       '卡泊芬净,哌拉西林钠他唑巴坦', '[+]伏立康唑,卡泊芬净,哌拉西林钠他唑巴坦',\n       '[+]亚胺培南/西司他丁,伏立康唑,卡泊芬净', '[+]亚胺培南/西司他丁,伏立康唑,利奈唑胺,卡泊芬净',\n       '亚胺培南/西司他丁,伏立康唑,利奈唑胺,卡泊芬净',\n       '[+]亚胺培南/西司他丁,伏立康唑,利奈唑胺,卡泊芬净,替考拉宁,甲氧苄啶/磺胺甲噁唑', '[+]伏立康唑', '伏立康唑',\n       '[+]头孢哌酮钠舒巴坦,替考拉宁,美罗培南', '[+]卡泊芬净,替加环素,替考拉宁,美罗培南', '[-]替加环素,美罗培南',\n       '[+]卡泊芬净,替加环素,美罗培南', '[+]伏立康唑,卡泊芬净,替加环素,美罗培南', '[-]伏立康唑,替加环素,美罗培南',\n       '伏立康唑,替加环素,美罗培南', '[+]伏立康唑,利奈唑胺,替加环素,美罗培南', '[-]伏立康唑,利奈唑胺,美罗培南',\n       '伏立康唑,利奈唑胺,美罗培南', '[+]伏立康唑,利奈唑胺,头孢哌酮钠舒巴坦,甲氧苄啶/磺胺甲噁唑,美罗培南',\n       '[-]伏立康唑,利奈唑胺,头孢哌酮钠舒巴坦,甲氧苄啶/磺胺甲噁唑',\n       '伏立康唑,利奈唑胺,头孢哌酮钠舒巴坦,甲氧苄啶/磺胺甲噁唑', '[-]头孢哌酮钠舒巴坦,甲氧苄啶/磺胺甲噁唑',\n       '头孢哌酮钠舒巴坦,甲氧苄啶/磺胺甲噁唑', '[+]卡泊芬净,头孢哌酮钠舒巴坦', '卡泊芬净,头孢哌酮钠舒巴坦',\n       '[+]卡泊芬净,头孢哌酮钠舒巴坦,替加环素', '卡泊芬净,头孢哌酮钠舒巴坦,替加环素', '[+]哌拉西林钠他唑巴坦,阿米卡星',\n       '[+]哌拉西林钠他唑巴坦,美罗培南', '[-]美罗培南', '[+]头孢哌酮钠舒巴坦,小檗碱',\n       '[+]万古霉素,头孢哌酮钠舒巴坦,小檗碱', '[-]万古霉素,头孢哌酮钠舒巴坦',\n       '[+]万古霉素,头孢哌酮钠舒巴坦,阿米卡星', '万古霉素,头孢哌酮钠舒巴坦,阿米卡星',\n       '[+]万古霉素,多粘菌素B,头孢哌酮钠舒巴坦,阿米卡星', '[-]多粘菌素B,头孢哌酮钠舒巴坦',\n       '多粘菌素B,头孢哌酮钠舒巴坦', '[+]多粘菌素B,头孢他啶,头孢哌酮钠舒巴坦', '[-]多粘菌素B,头孢他啶',\n       '多粘菌素B,头孢他啶', '[-]头孢他啶', '伏立康唑,头孢哌酮钠舒巴坦', '[-]伏立康唑',\n       '[+]伏立康唑,头孢哌酮钠舒巴坦', '[+]拉氧头孢', '[+]拉氧头孢,阿米卡星', '拉氧头孢,阿米卡星',\n       '[+]亚胺培南/西司他丁,拉氧头孢,阿米卡星', '[-]亚胺培南/西司他丁,阿米卡星', '亚胺培南/西司他丁,阿米卡星',\n       '[+]万古霉素,亚胺培南/西司他丁,阿米卡星', '[-]万古霉素,亚胺培南/西司他丁',\n       '[+]万古霉素,亚胺培南/西司他丁,利奈唑胺', '[+][-]头孢哌酮钠舒巴坦,左氧氟沙星',\n       '[+]头孢哌酮钠舒巴坦,左氧氟沙星,阿米卡星', '头孢哌酮钠舒巴坦,左氧氟沙星,阿米卡星',\n       '[+]头孢他啶,头孢哌酮钠舒巴坦,阿米卡星', '[-]头孢他啶,阿米卡星', '头孢他啶,阿米卡星',\n       '[+]头孢哌酮钠舒巴坦,阿米卡星', '[+]利奈唑胺,头孢曲松,美罗培南', '[-]利奈唑胺,头孢曲松',\n       '利奈唑胺,头孢曲松', '[-]利奈唑胺,头孢他啶,头孢曲松', '[+]利奈唑胺,哌拉西林钠他唑巴坦',\n       '利奈唑胺,哌拉西林钠他唑巴坦', '[+]利奈唑胺,哌拉西林钠他唑巴坦,替加环素',\n       '[-]利奈唑胺,哌拉西林钠他唑巴坦,多粘菌素B,替加环素,美罗培南', '[-]多粘菌素B,美罗培南',\n       '[+]利奈唑胺,美罗培南', '利奈唑胺,美罗培南', '[+]利奈唑胺,米诺环素,美罗培南', '[-]米诺环素,美罗培南',\n       '[+]头孢哌酮钠舒巴坦,甲氧苄啶/磺胺甲噁唑', '[+]头孢哌酮钠舒巴坦,甲氧苄啶/磺胺甲噁唑,美罗培南',\n       '[+]左氧氟沙星', '[+]头孢哌酮钠舒巴坦,替考拉宁', '[+]头孢哌酮钠舒巴坦,替考拉宁,比阿培南',\n       '[-]替考拉宁,比阿培南', '替考拉宁,比阿培南', '[+]替考拉宁,比阿培南,美罗培南',\n       '[-]哌拉西林钠他唑巴坦,美罗培南', '[+]哌拉西林钠他唑巴坦,比阿培南,阿米卡星', '[-]比阿培南,阿米卡星',\n       '比阿培南,阿米卡星', '[+]多粘菌素B,比阿培南,阿米卡星', '多粘菌素B,比阿培南,阿米卡星',\n       '[-]多粘菌素B,头孢哌酮钠舒巴坦,阿米卡星'], dtype=object)"
     },
     "metadata": {},
     "execution_count": 31
    }
   ],
   "source": [
    "df['抗菌药物[权重]'].unique()"
   ]
  },
  {
   "cell_type": "code",
   "execution_count": 32,
   "metadata": {},
   "outputs": [
    {
     "output_type": "execute_result",
     "data": {
      "text/plain": "array(['[+]头孢哌酮钠舒巴坦', '头孢哌酮钠舒巴坦', '[+]哌拉西林钠他唑巴坦', '哌拉西林钠他唑巴坦', '拉氧头孢',\n       '美罗培南', '头孢哌酮钠舒巴坦,阿米卡星', '[+]头孢他啶', '头孢他啶', '[+]亚胺培南/西司他丁,美罗培南',\n       '头孢呋辛', '[+]头孢呋辛,阿米卡星', '[+]头孢呋辛', '[+]哌拉西林钠他唑巴坦,头孢呋辛', '莫西沙星',\n       '[+]伏立康唑', '[+]哌拉西林钠他唑巴坦,美罗培南', '[+]拉氧头孢',\n       '[+]头孢哌酮钠舒巴坦,甲氧苄啶/磺胺甲噁唑', '头孢哌酮钠舒巴坦,甲氧苄啶/磺胺甲噁唑',\n       '[+]头孢哌酮钠舒巴坦,替考拉宁', '头孢哌酮钠舒巴坦,替考拉宁'], dtype=object)"
     },
     "metadata": {},
     "execution_count": 32
    }
   ],
   "source": [
    "df3=df.loc[~(df['抗菌药物[权重]']).isin([np.nan, '[]','[-]'])&(df['入院天数']<4)]\n",
    "df3['抗菌药物[权重]'].unique()"
   ]
  },
  {
   "cell_type": "code",
   "execution_count": 33,
   "metadata": {},
   "outputs": [
    {
     "output_type": "execute_result",
     "data": {
      "text/plain": "(85, 27)"
     },
     "metadata": {},
     "execution_count": 33
    }
   ],
   "source": [
    "df3.shape"
   ]
  },
  {
   "cell_type": "code",
   "execution_count": 34,
   "metadata": {},
   "outputs": [
    {
     "output_type": "execute_result",
     "data": {
      "text/plain": "array(['CIID1653718061744732267', 'CIID1653796266168112184',\n       'CIID1653914248552724181', 'CIID1653796277751732068',\n       'CIID1653779235778605345', 'CIID1653723242162126219',\n       'CIID1653830882679645669', 'CIID1653918325437175865',\n       'CIID1653796318516174588', 'CIID1653717988424085542',\n       'CIID1653718054093271918', 'CIID1653914292150420896',\n       'CIID1653917433592810942', 'CIID1653779320780373940',\n       'CIID1653804164236514262', 'CIID1653825468173918872',\n       'CIID1653825495961184454', 'CIID1653917433182817678',\n       'CIID1653727243306890651', 'CIID1653796169794537843',\n       'CIID1653803976320152226', 'CIID1653916348264244875'], dtype=object)"
     },
     "metadata": {},
     "execution_count": 34
    }
   ],
   "source": [
    "df4=pd.merge(df2,df3,on='RCASEID')\n",
    "df4['RCASEID'].unique()"
   ]
  },
  {
   "cell_type": "code",
   "execution_count": 36,
   "metadata": {},
   "outputs": [
    {
     "output_type": "execute_result",
     "data": {
      "text/plain": "(597, 27)"
     },
     "metadata": {},
     "execution_count": 36
    }
   ],
   "source": [
    "df5=df.loc[df['RCASEID'].isin(['CIID1653718061744732267', 'CIID1653796266168112184',\n",
    "       'CIID1653914248552724181', 'CIID1653796277751732068',\n",
    "       'CIID1653779235778605345', 'CIID1653723242162126219',\n",
    "       'CIID1653830882679645669', 'CIID1653918325437175865',\n",
    "       'CIID1653796318516174588', 'CIID1653717988424085542',\n",
    "       'CIID1653718054093271918', 'CIID1653914292150420896',\n",
    "       'CIID1653917433592810942', 'CIID1653779320780373940',\n",
    "       'CIID1653804164236514262', 'CIID1653825468173918872',\n",
    "       'CIID1653825495961184454', 'CIID1653917433182817678',\n",
    "       'CIID1653727243306890651', 'CIID1653796169794537843',\n",
    "       'CIID1653803976320152226', 'CIID1653916348264244875'])]\n",
    "df5.shape"
   ]
  },
  {
   "cell_type": "code",
   "execution_count": 39,
   "metadata": {},
   "outputs": [],
   "source": [
    "df5.to_csv(r\"C:\\Users\\Administrator\\Desktop\\IcuNonOperation_ZJ_HZ_ZEYY_2020_05_19_15_53_29_740 (2)\\数据分析\\滨江ICU\\入院感染患者.csv')"
   ]
  },
  {
   "cell_type": "code",
   "execution_count": 40,
   "metadata": {},
   "outputs": [
    {
     "output_type": "execute_result",
     "data": {
      "text/plain": "array(['CIID1653718061744732267', 'CIID1653796266168112184',\n       'CIID1653914248552724181', 'CIID1653796277751732068',\n       'CIID1653779235778605345', 'CIID1653723242162126219',\n       'CIID1653830882679645669', 'CIID1653918325437175865',\n       'CIID1653796318516174588', 'CIID1653717988424085542',\n       'CIID1653718054093271918', 'CIID1653914292150420896',\n       'CIID1653917433592810942', 'CIID1653779320780373940',\n       'CIID1653804164236514262', 'CIID1653825468173918872',\n       'CIID1653825495961184454', 'CIID1653917433182817678',\n       'CIID1653727243306890651', 'CIID1653796169794537843',\n       'CIID1653803976320152226', 'CIID1653916348264244875'], dtype=object)"
     },
     "metadata": {},
     "execution_count": 40
    }
   ],
   "source": [
    "df5['RCASEID'].unique()"
   ]
  },
  {
   "cell_type": "code",
   "execution_count": 42,
   "metadata": {},
   "outputs": [],
   "source": [
    "df6=df.loc[~(df['RCASEID']).isin(['CIID1653718061744732267', 'CIID1653796266168112184',\n",
    "       'CIID1653914248552724181', 'CIID1653796277751732068',\n",
    "       'CIID1653779235778605345', 'CIID1653723242162126219',\n",
    "       'CIID1653830882679645669', 'CIID1653918325437175865',\n",
    "       'CIID1653796318516174588', 'CIID1653717988424085542',\n",
    "       'CIID1653718054093271918', 'CIID1653914292150420896',\n",
    "       'CIID1653917433592810942', 'CIID1653779320780373940',\n",
    "       'CIID1653804164236514262', 'CIID1653825468173918872',\n",
    "       'CIID1653825495961184454', 'CIID1653917433182817678',\n",
    "       'CIID1653727243306890651', 'CIID1653796169794537843',\n",
    "       'CIID1653803976320152226', 'CIID1653916348264244875'])]"
   ]
  },
  {
   "cell_type": "code",
   "execution_count": 43,
   "metadata": {},
   "outputs": [
    {
     "output_type": "execute_result",
     "data": {
      "text/plain": "(587, 27)"
     },
     "metadata": {},
     "execution_count": 43
    }
   ],
   "source": [
    "df6.shape"
   ]
  },
  {
   "cell_type": "code",
   "execution_count": 44,
   "metadata": {},
   "outputs": [],
   "source": [
    "df6.to_csv(r\"C:\\Users\\Administrator\\Desktop\\IcuNonOperation_ZJ_HZ_ZEYY_2020_05_19_15_53_29_740 (2)\\数据分析\\滨江ICU\\剔除入院感染患者.csv\")"
   ]
  },
  {
   "cell_type": "code",
   "execution_count": 45,
   "metadata": {},
   "outputs": [
    {
     "output_type": "execute_result",
     "data": {
      "text/plain": "(80, 27)"
     },
     "metadata": {},
     "execution_count": 45
    }
   ],
   "source": [
    "df7=df6.loc[(df['入院天数']>=4)&(df['每日体温最高值']>=38)]\n",
    "df7.shape"
   ]
  },
  {
   "cell_type": "code",
   "execution_count": 46,
   "metadata": {},
   "outputs": [
    {
     "output_type": "execute_result",
     "data": {
      "text/plain": "array([nan, '[+]哌拉西林钠他唑巴坦', '哌拉西林钠他唑巴坦', '[-]', '[+]头孢哌酮钠舒巴坦', '头孢哌酮钠舒巴坦',\n       '[+]头孢哌酮钠舒巴坦,左氧氟沙星', '头孢哌酮钠舒巴坦,左氧氟沙星',\n       '[+]头孢哌酮钠舒巴坦,左氧氟沙星,美罗培南,阿米卡星', '[-]美罗培南,阿米卡星', '美罗培南,阿米卡星',\n       '[+]哌拉西林钠他唑巴坦,美罗培南,阿米卡星', '[-]哌拉西林钠他唑巴坦,阿米卡星', '哌拉西林钠他唑巴坦,阿米卡星',\n       '美罗培南', '[+]亚胺培南/西司他丁,美罗培南,阿米卡星', '[+][-]亚胺培南/西司他丁,替加环素',\n       '亚胺培南/西司他丁,替加环素', '[-]万古霉素,替加环素', '万古霉素,替加环素', '[-]替加环素', '替加环素',\n       '[+]亚胺培南/西司他丁,头孢哌酮钠舒巴坦', '[-]亚胺培南/西司他丁', '亚胺培南/西司他丁', '[+]莫西沙星',\n       '莫西沙星', '[+]头孢呋辛', '[+]哌拉西林钠他唑巴坦,头孢呋辛', '[-]哌拉西林钠他唑巴坦', '[+]制霉菌素',\n       '[+]制霉菌素,头孢哌酮钠舒巴坦', '[-]哌拉西林钠他唑巴坦,头孢哌酮钠舒巴坦', '[+]卡泊芬净,哌拉西林钠他唑巴坦',\n       '卡泊芬净,哌拉西林钠他唑巴坦', '[+]伏立康唑,卡泊芬净,哌拉西林钠他唑巴坦',\n       '[+]亚胺培南/西司他丁,伏立康唑,卡泊芬净', '[+]亚胺培南/西司他丁,伏立康唑,利奈唑胺,卡泊芬净',\n       '亚胺培南/西司他丁,伏立康唑,利奈唑胺,卡泊芬净',\n       '[+]亚胺培南/西司他丁,伏立康唑,利奈唑胺,卡泊芬净,替考拉宁,甲氧苄啶/磺胺甲噁唑', '[+]伏立康唑', '伏立康唑',\n       '[+]头孢哌酮钠舒巴坦,替考拉宁,美罗培南', '[-]替考拉宁,美罗培南', '[+]卡泊芬净,替加环素,替考拉宁,美罗培南',\n       '[-]替加环素,美罗培南', '[+]卡泊芬净,替加环素,美罗培南', '[+]伏立康唑,卡泊芬净,替加环素,美罗培南',\n       '[-]伏立康唑,替加环素,美罗培南', '伏立康唑,替加环素,美罗培南', '[+]伏立康唑,利奈唑胺,替加环素,美罗培南',\n       '[-]伏立康唑,利奈唑胺,美罗培南', '伏立康唑,利奈唑胺,美罗培南',\n       '[+]伏立康唑,利奈唑胺,头孢哌酮钠舒巴坦,甲氧苄啶/磺胺甲噁唑,美罗培南',\n       '[-]伏立康唑,利奈唑胺,头孢哌酮钠舒巴坦,甲氧苄啶/磺胺甲噁唑',\n       '伏立康唑,利奈唑胺,头孢哌酮钠舒巴坦,甲氧苄啶/磺胺甲噁唑', '[-]头孢哌酮钠舒巴坦,甲氧苄啶/磺胺甲噁唑',\n       '头孢哌酮钠舒巴坦,甲氧苄啶/磺胺甲噁唑', '[+]卡泊芬净,头孢哌酮钠舒巴坦', '卡泊芬净,头孢哌酮钠舒巴坦',\n       '[+]卡泊芬净,头孢哌酮钠舒巴坦,替加环素', '卡泊芬净,头孢哌酮钠舒巴坦,替加环素', '[+]哌拉西林钠他唑巴坦,阿米卡星',\n       '[+]哌拉西林钠他唑巴坦,美罗培南', '[-]美罗培南', '[-]头孢哌酮钠舒巴坦,替考拉宁',\n       '头孢哌酮钠舒巴坦,替考拉宁', '[-]头孢哌酮钠舒巴坦', '[+]拉氧头孢', '拉氧头孢', '[+]拉氧头孢,阿米卡星',\n       '拉氧头孢,阿米卡星', '[+]亚胺培南/西司他丁,拉氧头孢,阿米卡星', '[-]亚胺培南/西司他丁,阿米卡星',\n       '亚胺培南/西司他丁,阿米卡星', '[+]万古霉素,亚胺培南/西司他丁,阿米卡星', '[-]万古霉素,亚胺培南/西司他丁',\n       '[+]万古霉素,亚胺培南/西司他丁,利奈唑胺', '[+][-]头孢哌酮钠舒巴坦,左氧氟沙星',\n       '[+]头孢哌酮钠舒巴坦,左氧氟沙星,阿米卡星', '头孢哌酮钠舒巴坦,左氧氟沙星,阿米卡星',\n       '[-]头孢哌酮钠舒巴坦,阿米卡星', '头孢哌酮钠舒巴坦,阿米卡星', '[+]头孢他啶,头孢哌酮钠舒巴坦,阿米卡星',\n       '[-]头孢他啶,阿米卡星', '头孢他啶,阿米卡星', '[+]头孢哌酮钠舒巴坦,小檗碱', '[+]头孢哌酮钠舒巴坦,阿米卡星',\n       '[+]利奈唑胺,头孢曲松,美罗培南', '[-]利奈唑胺,头孢曲松', '利奈唑胺,头孢曲松',\n       '[-]利奈唑胺,头孢他啶,头孢曲松', '[-]头孢他啶', '头孢他啶', '[+]左氧氟沙星', '左氧氟沙星'],\n      dtype=object)"
     },
     "metadata": {},
     "execution_count": 46
    }
   ],
   "source": [
    "df6['抗菌药物[权重]'].unique()"
   ]
  },
  {
   "cell_type": "code",
   "execution_count": 47,
   "metadata": {},
   "outputs": [],
   "source": [
    "df8=df6.loc[(df['入院天数']>=4)&(df['抗菌药物[权重]'].str.contains('[+]'))]"
   ]
  },
  {
   "cell_type": "code",
   "execution_count": 48,
   "metadata": {},
   "outputs": [
    {
     "output_type": "execute_result",
     "data": {
      "text/plain": "(49, 27)"
     },
     "metadata": {},
     "execution_count": 48
    }
   ],
   "source": [
    "df8.shape"
   ]
  },
  {
   "cell_type": "code",
   "execution_count": 49,
   "metadata": {},
   "outputs": [
    {
     "output_type": "execute_result",
     "data": {
      "text/plain": "array(['CIID1653722879885393990', 'CIID1653918355911942683',\n       'CIID1653915060556312561', 'CIID1653718062104393855',\n       'CIID1653915951321679170', 'CIID1653723069157482723',\n       'CIID1653830768399550731', 'CIID1653915803436801639',\n       'CIID1653779355466220403', 'CIID1653825831925995618'], dtype=object)"
     },
     "metadata": {},
     "execution_count": 49
    }
   ],
   "source": [
    "df院内感染患者=pd.merge(df7,df8,on='RCASEID')\n",
    "df院内感染患者['RCASEID'].unique()"
   ]
  },
  {
   "cell_type": "code",
   "execution_count": 51,
   "metadata": {},
   "outputs": [
    {
     "output_type": "execute_result",
     "data": {
      "text/plain": "(329, 27)"
     },
     "metadata": {},
     "execution_count": 51
    }
   ],
   "source": [
    "df9=df.loc[(df['RCASEID']).isin(['CIID1653722879885393990', 'CIID1653918355911942683',\n",
    "       'CIID1653915060556312561', 'CIID1653718062104393855',\n",
    "       'CIID1653915951321679170', 'CIID1653723069157482723',\n",
    "       'CIID1653830768399550731', 'CIID1653915803436801639',\n",
    "       'CIID1653779355466220403', 'CIID1653825831925995618'])]\n",
    "df9.shape"
   ]
  },
  {
   "cell_type": "code",
   "execution_count": 53,
   "metadata": {},
   "outputs": [],
   "source": [
    "df9.to_excel(r\"C:\\Users\\Administrator\\Desktop\\IcuNonOperation_ZJ_HZ_ZEYY_2020_05_19_15_53_29_740 (2)\\数据分析\\滨江ICU\\院内感染患者.xlsx\")"
   ]
  },
  {
   "cell_type": "code",
   "execution_count": 30,
   "metadata": {},
   "outputs": [],
   "source": []
  },
  {
   "cell_type": "code",
   "execution_count": 31,
   "metadata": {},
   "outputs": [
    {
     "output_type": "execute_result",
     "data": {
      "text/plain": "                     RCASEID      CASEID  入院天数          住院科室名称  \\\n8    CIID1653917896004377481  1356105(3)     3          滨江消化内科   \n54   CIID1653915296260482418  1276160(4)     2  滨江心血管内科,滨江消化内科   \n55   CIID1653915296260482418  1276160(4)     3          滨江消化内科   \n153  CIID1653796592299280277  1303480(2)     1          滨江消化内科   \n154  CIID1653796592299280277  1303480(2)     2          滨江消化内科   \n\n                 住院病区名称  住院ICU科室名称  住院ICU病区名称  患者年龄       入院诊断  出院方式  ...  \\\n8              滨江消化内科病区        NaN        NaN    63       结肠息肉   NaN  ...   \n54   滨江心血管内科病区,滨江消化内科病区        NaN        NaN    36      急性胰腺炎   NaN  ...   \n55             滨江消化内科病区        NaN        NaN    36      急性胰腺炎   NaN  ...   \n153            滨江消化内科病区        NaN        NaN    55  慢性胰腺炎急性发作   NaN  ...   \n154            滨江消化内科病区        NaN        NaN    55  慢性胰腺炎急性发作   NaN  ...   \n\n          CRP      抗菌药物[数量]      抗菌药物[权重]  \\\n8         NaN  [+]哌拉西林钠他唑巴坦  [+]哌拉西林钠他唑巴坦   \n54        6.5       [+]莫西沙星       [+]莫西沙星   \n55        NaN        []莫西沙星        []莫西沙星   \n153       NaN          头孢唑肟          头孢唑肟   \n154  4.7,2.05        []头孢唑肟        []头孢唑肟   \n\n                                             非抗菌药物[数量]  \\\n8    [+](10%)葡萄糖注射液(软袋),(5%)葡萄糖注射液,(爱全乐雾化液)吸入用异丙托溴铵...   \n54   [+](10%)葡萄糖注射液(软袋),(5%)葡萄糖注射液,(林格氏)复方氯化钠注射液,(美...   \n55   [](10%)葡萄糖注射液(软袋),(5%)葡萄糖注射液,(林格氏)复方氯化钠注射液,(美凌...   \n153  (5%)葡萄糖注射液,奥曲肽注射液(善宁),氯化钠注射液(非PVC),注射用泮托拉唑钠(阿漠...   \n154  [+](10%)葡萄糖注射液(软袋),(5%)葡萄糖注射液,奥曲肽注射液(善宁),氯化钠注射...   \n\n                                             非抗菌药物[权重]  是否呼吸机 是否留置导尿 是否中心静脉插管  \\\n8    [+](10%)葡萄糖注射液(软袋),(5%)葡萄糖注射液,(爱全乐雾化液)吸入用异丙托溴铵...      0      0        0   \n54   [+](10%)葡萄糖注射液(软袋),(5%)葡萄糖注射液,(林格氏)复方氯化钠注射液,(美...      0      0        0   \n55   [](10%)葡萄糖注射液(软袋),(5%)葡萄糖注射液,(林格氏)复方氯化钠注射液,(美凌...      0      0        0   \n153  (5%)葡萄糖注射液,奥曲肽注射液(善宁),氯化钠注射液(非PVC),注射用泮托拉唑钠(阿漠...      0      0        0   \n154  [+](10%)葡萄糖注射液(软袋),(5%)葡萄糖注射液,奥曲肽注射液(善宁),氯化钠注射...      0      0        0   \n\n    NIS感染  目录科室或病区  \n8       0      NaN  \n54      0      NaN  \n55      0      NaN  \n153     0      NaN  \n154     0      NaN  \n\n[5 rows x 31 columns]",
      "text/html": "<div>\n<style scoped>\n    .dataframe tbody tr th:only-of-type {\n        vertical-align: middle;\n    }\n\n    .dataframe tbody tr th {\n        vertical-align: top;\n    }\n\n    .dataframe thead th {\n        text-align: right;\n    }\n</style>\n<table border=\"1\" class=\"dataframe\">\n  <thead>\n    <tr style=\"text-align: right;\">\n      <th></th>\n      <th>RCASEID</th>\n      <th>CASEID</th>\n      <th>入院天数</th>\n      <th>住院科室名称</th>\n      <th>住院病区名称</th>\n      <th>住院ICU科室名称</th>\n      <th>住院ICU病区名称</th>\n      <th>患者年龄</th>\n      <th>入院诊断</th>\n      <th>出院方式</th>\n      <th>...</th>\n      <th>CRP</th>\n      <th>抗菌药物[数量]</th>\n      <th>抗菌药物[权重]</th>\n      <th>非抗菌药物[数量]</th>\n      <th>非抗菌药物[权重]</th>\n      <th>是否呼吸机</th>\n      <th>是否留置导尿</th>\n      <th>是否中心静脉插管</th>\n      <th>NIS感染</th>\n      <th>目录科室或病区</th>\n    </tr>\n  </thead>\n  <tbody>\n    <tr>\n      <th>8</th>\n      <td>CIID1653917896004377481</td>\n      <td>1356105(3)</td>\n      <td>3</td>\n      <td>滨江消化内科</td>\n      <td>滨江消化内科病区</td>\n      <td>NaN</td>\n      <td>NaN</td>\n      <td>63</td>\n      <td>结肠息肉</td>\n      <td>NaN</td>\n      <td>...</td>\n      <td>NaN</td>\n      <td>[+]哌拉西林钠他唑巴坦</td>\n      <td>[+]哌拉西林钠他唑巴坦</td>\n      <td>[+](10%)葡萄糖注射液(软袋),(5%)葡萄糖注射液,(爱全乐雾化液)吸入用异丙托溴铵...</td>\n      <td>[+](10%)葡萄糖注射液(软袋),(5%)葡萄糖注射液,(爱全乐雾化液)吸入用异丙托溴铵...</td>\n      <td>0</td>\n      <td>0</td>\n      <td>0</td>\n      <td>0</td>\n      <td>NaN</td>\n    </tr>\n    <tr>\n      <th>54</th>\n      <td>CIID1653915296260482418</td>\n      <td>1276160(4)</td>\n      <td>2</td>\n      <td>滨江心血管内科,滨江消化内科</td>\n      <td>滨江心血管内科病区,滨江消化内科病区</td>\n      <td>NaN</td>\n      <td>NaN</td>\n      <td>36</td>\n      <td>急性胰腺炎</td>\n      <td>NaN</td>\n      <td>...</td>\n      <td>6.5</td>\n      <td>[+]莫西沙星</td>\n      <td>[+]莫西沙星</td>\n      <td>[+](10%)葡萄糖注射液(软袋),(5%)葡萄糖注射液,(林格氏)复方氯化钠注射液,(美...</td>\n      <td>[+](10%)葡萄糖注射液(软袋),(5%)葡萄糖注射液,(林格氏)复方氯化钠注射液,(美...</td>\n      <td>0</td>\n      <td>0</td>\n      <td>0</td>\n      <td>0</td>\n      <td>NaN</td>\n    </tr>\n    <tr>\n      <th>55</th>\n      <td>CIID1653915296260482418</td>\n      <td>1276160(4)</td>\n      <td>3</td>\n      <td>滨江消化内科</td>\n      <td>滨江消化内科病区</td>\n      <td>NaN</td>\n      <td>NaN</td>\n      <td>36</td>\n      <td>急性胰腺炎</td>\n      <td>NaN</td>\n      <td>...</td>\n      <td>NaN</td>\n      <td>[]莫西沙星</td>\n      <td>[]莫西沙星</td>\n      <td>[](10%)葡萄糖注射液(软袋),(5%)葡萄糖注射液,(林格氏)复方氯化钠注射液,(美凌...</td>\n      <td>[](10%)葡萄糖注射液(软袋),(5%)葡萄糖注射液,(林格氏)复方氯化钠注射液,(美凌...</td>\n      <td>0</td>\n      <td>0</td>\n      <td>0</td>\n      <td>0</td>\n      <td>NaN</td>\n    </tr>\n    <tr>\n      <th>153</th>\n      <td>CIID1653796592299280277</td>\n      <td>1303480(2)</td>\n      <td>1</td>\n      <td>滨江消化内科</td>\n      <td>滨江消化内科病区</td>\n      <td>NaN</td>\n      <td>NaN</td>\n      <td>55</td>\n      <td>慢性胰腺炎急性发作</td>\n      <td>NaN</td>\n      <td>...</td>\n      <td>NaN</td>\n      <td>头孢唑肟</td>\n      <td>头孢唑肟</td>\n      <td>(5%)葡萄糖注射液,奥曲肽注射液(善宁),氯化钠注射液(非PVC),注射用泮托拉唑钠(阿漠...</td>\n      <td>(5%)葡萄糖注射液,奥曲肽注射液(善宁),氯化钠注射液(非PVC),注射用泮托拉唑钠(阿漠...</td>\n      <td>0</td>\n      <td>0</td>\n      <td>0</td>\n      <td>0</td>\n      <td>NaN</td>\n    </tr>\n    <tr>\n      <th>154</th>\n      <td>CIID1653796592299280277</td>\n      <td>1303480(2)</td>\n      <td>2</td>\n      <td>滨江消化内科</td>\n      <td>滨江消化内科病区</td>\n      <td>NaN</td>\n      <td>NaN</td>\n      <td>55</td>\n      <td>慢性胰腺炎急性发作</td>\n      <td>NaN</td>\n      <td>...</td>\n      <td>4.7,2.05</td>\n      <td>[]头孢唑肟</td>\n      <td>[]头孢唑肟</td>\n      <td>[+](10%)葡萄糖注射液(软袋),(5%)葡萄糖注射液,奥曲肽注射液(善宁),氯化钠注射...</td>\n      <td>[+](10%)葡萄糖注射液(软袋),(5%)葡萄糖注射液,奥曲肽注射液(善宁),氯化钠注射...</td>\n      <td>0</td>\n      <td>0</td>\n      <td>0</td>\n      <td>0</td>\n      <td>NaN</td>\n    </tr>\n  </tbody>\n</table>\n<p>5 rows × 31 columns</p>\n</div>"
     },
     "metadata": {},
     "execution_count": 31
    }
   ],
   "source": [
    "df3.head(5)"
   ]
  },
  {
   "cell_type": "code",
   "execution_count": 32,
   "metadata": {},
   "outputs": [
    {
     "output_type": "execute_result",
     "data": {
      "text/plain": "count      26\nunique     24\ntop       5.7\nfreq        2\nName: 血白细胞, dtype: object"
     },
     "metadata": {},
     "execution_count": 32
    }
   ],
   "source": [
    "df3['血白细胞'].describe()"
   ]
  },
  {
   "cell_type": "code",
   "execution_count": 33,
   "metadata": {},
   "outputs": [],
   "source": [
    "df3.to_excel('E:\\\\部门工作相关\\\\感染性事件\\\\普通患者\\\\IcuNonOperation_BJ_BJ_JQYY_2020_05_19_12___\\\\住院科室名称\\\\消化内科\\\\消化内科数据清理1.xlsx')"
   ]
  },
  {
   "cell_type": "code",
   "execution_count": 34,
   "metadata": {},
   "outputs": [
    {
     "output_type": "execute_result",
     "data": {
      "text/plain": "(37, 31)"
     },
     "metadata": {},
     "execution_count": 34
    }
   ],
   "source": [
    "df3.shape"
   ]
  },
  {
   "cell_type": "code",
   "execution_count": 35,
   "metadata": {},
   "outputs": [
    {
     "output_type": "execute_result",
     "data": {
      "text/plain": "RCASEID       object\nCASEID        object\n入院天数           int64\n住院科室名称        object\n住院病区名称        object\n住院ICU科室名称    float64\n住院ICU病区名称    float64\n患者年龄           int64\n入院诊断          object\n出院方式         float64\n血糖测定值         object\n住院时间         float64\nICU科室时间      float64\nICU病区时间      float64\n菌检出           object\n每日体温最高值      float64\n每日体温最低值       object\n血白细胞          object\n尿白细胞          object\n脑脊液白细胞       float64\n血中性粒细胞        object\nCRP           object\n抗菌药物[数量]      object\n抗菌药物[权重]      object\n非抗菌药物[数量]     object\n非抗菌药物[权重]     object\n是否呼吸机          int64\n是否留置导尿         int64\n是否中心静脉插管       int64\nNIS感染          int64\n目录科室或病区      float64\ndtype: object"
     },
     "metadata": {},
     "execution_count": 35
    }
   ],
   "source": [
    "df3.dtypes"
   ]
  },
  {
   "cell_type": "code",
   "execution_count": 36,
   "metadata": {},
   "outputs": [
    {
     "output_type": "execute_result",
     "data": {
      "text/plain": "8           <NA>\n54           3.8\n55          <NA>\n153         <NA>\n154          4.9\n155         <NA>\n183          9.4\n184         <NA>\n253         <NA>\n261         <NA>\n262          6.8\n263          7.0\n275          6.3\n291         <NA>\n292         12.8\n293         10.1\n311          5.7\n312         <NA>\n423         <NA>\n424          5.9\n425          4.6\n437         16.6\n438         14.3\n439         <NA>\n457         19.0\n458         19.2\n459         18.1\n477          6.5\n478      6.7,6.4\n479          5.7\n495    19.2,16.4\n496         16.0\n529          5.4\n530          5.8\n531          5.9\n555     5.5,18.1\n556         12.7\nName: 血白细胞, dtype: string"
     },
     "metadata": {},
     "execution_count": 36
    }
   ],
   "source": [
    "df3['血白细胞'].astype('string')"
   ]
  },
  {
   "cell_type": "code",
   "execution_count": 37,
   "metadata": {},
   "outputs": [
    {
     "output_type": "error",
     "ename": "AttributeError",
     "evalue": "'float' object has no attribute 'split'",
     "traceback": [
      "\u001b[1;31m---------------------------------------------------------------------------\u001b[0m",
      "\u001b[1;31mAttributeError\u001b[0m                            Traceback (most recent call last)",
      "\u001b[1;32m<ipython-input-37-c7e176b803dd>\u001b[0m in \u001b[0;36m<module>\u001b[1;34m\u001b[0m\n\u001b[1;32m----> 1\u001b[1;33m \u001b[0mpd\u001b[0m\u001b[1;33m.\u001b[0m\u001b[0mDataFrame\u001b[0m\u001b[1;33m(\u001b[0m\u001b[1;33m(\u001b[0m\u001b[0mx\u001b[0m\u001b[1;33m.\u001b[0m\u001b[0msplit\u001b[0m\u001b[1;33m(\u001b[0m\u001b[1;34m','\u001b[0m\u001b[1;33m)\u001b[0m \u001b[1;32mfor\u001b[0m \u001b[0mx\u001b[0m \u001b[1;32min\u001b[0m \u001b[0mdf3\u001b[0m\u001b[1;33m[\u001b[0m\u001b[1;34m'血白细胞'\u001b[0m\u001b[1;33m]\u001b[0m\u001b[1;33m)\u001b[0m\u001b[1;33m,\u001b[0m\u001b[0mindex\u001b[0m\u001b[1;33m=\u001b[0m\u001b[0mdf3\u001b[0m\u001b[1;33m.\u001b[0m\u001b[0mindex\u001b[0m\u001b[1;33m,\u001b[0m\u001b[0mcolumns\u001b[0m\u001b[1;33m=\u001b[0m\u001b[1;33m[\u001b[0m\u001b[1;34m'血白细胞'\u001b[0m\u001b[1;33m,\u001b[0m\u001b[1;34m'血白细胞1'\u001b[0m\u001b[1;33m,\u001b[0m\u001b[1;34m'血白细胞2'\u001b[0m\u001b[1;33m,\u001b[0m\u001b[1;34m'血白细胞3'\u001b[0m\u001b[1;33m]\u001b[0m\u001b[1;33m)\u001b[0m\u001b[1;33m\u001b[0m\u001b[1;33m\u001b[0m\u001b[0m\n\u001b[0m",
      "\u001b[1;32mD:\\anaconda\\lib\\site-packages\\pandas\\core\\frame.py\u001b[0m in \u001b[0;36m__init__\u001b[1;34m(self, data, index, columns, dtype, copy)\u001b[0m\n\u001b[0;32m    467\u001b[0m         \u001b[1;32melif\u001b[0m \u001b[0misinstance\u001b[0m\u001b[1;33m(\u001b[0m\u001b[0mdata\u001b[0m\u001b[1;33m,\u001b[0m \u001b[0mabc\u001b[0m\u001b[1;33m.\u001b[0m\u001b[0mIterable\u001b[0m\u001b[1;33m)\u001b[0m \u001b[1;32mand\u001b[0m \u001b[1;32mnot\u001b[0m \u001b[0misinstance\u001b[0m\u001b[1;33m(\u001b[0m\u001b[0mdata\u001b[0m\u001b[1;33m,\u001b[0m \u001b[1;33m(\u001b[0m\u001b[0mstr\u001b[0m\u001b[1;33m,\u001b[0m \u001b[0mbytes\u001b[0m\u001b[1;33m)\u001b[0m\u001b[1;33m)\u001b[0m\u001b[1;33m:\u001b[0m\u001b[1;33m\u001b[0m\u001b[1;33m\u001b[0m\u001b[0m\n\u001b[0;32m    468\u001b[0m             \u001b[1;32mif\u001b[0m \u001b[1;32mnot\u001b[0m \u001b[0misinstance\u001b[0m\u001b[1;33m(\u001b[0m\u001b[0mdata\u001b[0m\u001b[1;33m,\u001b[0m \u001b[1;33m(\u001b[0m\u001b[0mabc\u001b[0m\u001b[1;33m.\u001b[0m\u001b[0mSequence\u001b[0m\u001b[1;33m,\u001b[0m \u001b[0mExtensionArray\u001b[0m\u001b[1;33m)\u001b[0m\u001b[1;33m)\u001b[0m\u001b[1;33m:\u001b[0m\u001b[1;33m\u001b[0m\u001b[1;33m\u001b[0m\u001b[0m\n\u001b[1;32m--> 469\u001b[1;33m                 \u001b[0mdata\u001b[0m \u001b[1;33m=\u001b[0m \u001b[0mlist\u001b[0m\u001b[1;33m(\u001b[0m\u001b[0mdata\u001b[0m\u001b[1;33m)\u001b[0m\u001b[1;33m\u001b[0m\u001b[1;33m\u001b[0m\u001b[0m\n\u001b[0m\u001b[0;32m    470\u001b[0m             \u001b[1;32mif\u001b[0m \u001b[0mlen\u001b[0m\u001b[1;33m(\u001b[0m\u001b[0mdata\u001b[0m\u001b[1;33m)\u001b[0m \u001b[1;33m>\u001b[0m \u001b[1;36m0\u001b[0m\u001b[1;33m:\u001b[0m\u001b[1;33m\u001b[0m\u001b[1;33m\u001b[0m\u001b[0m\n\u001b[0;32m    471\u001b[0m                 \u001b[1;32mif\u001b[0m \u001b[0mis_list_like\u001b[0m\u001b[1;33m(\u001b[0m\u001b[0mdata\u001b[0m\u001b[1;33m[\u001b[0m\u001b[1;36m0\u001b[0m\u001b[1;33m]\u001b[0m\u001b[1;33m)\u001b[0m \u001b[1;32mand\u001b[0m \u001b[0mgetattr\u001b[0m\u001b[1;33m(\u001b[0m\u001b[0mdata\u001b[0m\u001b[1;33m[\u001b[0m\u001b[1;36m0\u001b[0m\u001b[1;33m]\u001b[0m\u001b[1;33m,\u001b[0m \u001b[1;34m\"ndim\"\u001b[0m\u001b[1;33m,\u001b[0m \u001b[1;36m1\u001b[0m\u001b[1;33m)\u001b[0m \u001b[1;33m==\u001b[0m \u001b[1;36m1\u001b[0m\u001b[1;33m:\u001b[0m\u001b[1;33m\u001b[0m\u001b[1;33m\u001b[0m\u001b[0m\n",
      "\u001b[1;32m<ipython-input-37-c7e176b803dd>\u001b[0m in \u001b[0;36m<genexpr>\u001b[1;34m(.0)\u001b[0m\n\u001b[1;32m----> 1\u001b[1;33m \u001b[0mpd\u001b[0m\u001b[1;33m.\u001b[0m\u001b[0mDataFrame\u001b[0m\u001b[1;33m(\u001b[0m\u001b[1;33m(\u001b[0m\u001b[0mx\u001b[0m\u001b[1;33m.\u001b[0m\u001b[0msplit\u001b[0m\u001b[1;33m(\u001b[0m\u001b[1;34m','\u001b[0m\u001b[1;33m)\u001b[0m \u001b[1;32mfor\u001b[0m \u001b[0mx\u001b[0m \u001b[1;32min\u001b[0m \u001b[0mdf3\u001b[0m\u001b[1;33m[\u001b[0m\u001b[1;34m'血白细胞'\u001b[0m\u001b[1;33m]\u001b[0m\u001b[1;33m)\u001b[0m\u001b[1;33m,\u001b[0m\u001b[0mindex\u001b[0m\u001b[1;33m=\u001b[0m\u001b[0mdf3\u001b[0m\u001b[1;33m.\u001b[0m\u001b[0mindex\u001b[0m\u001b[1;33m,\u001b[0m\u001b[0mcolumns\u001b[0m\u001b[1;33m=\u001b[0m\u001b[1;33m[\u001b[0m\u001b[1;34m'血白细胞'\u001b[0m\u001b[1;33m,\u001b[0m\u001b[1;34m'血白细胞1'\u001b[0m\u001b[1;33m,\u001b[0m\u001b[1;34m'血白细胞2'\u001b[0m\u001b[1;33m,\u001b[0m\u001b[1;34m'血白细胞3'\u001b[0m\u001b[1;33m]\u001b[0m\u001b[1;33m)\u001b[0m\u001b[1;33m\u001b[0m\u001b[1;33m\u001b[0m\u001b[0m\n\u001b[0m",
      "\u001b[1;31mAttributeError\u001b[0m: 'float' object has no attribute 'split'"
     ]
    }
   ],
   "source": [
    "pd.DataFrame((x.split(',') for x in df3['血白细胞']),index=df3.index,columns=['血白细胞','血白细胞1','血白细胞2','血白细胞3'])"
   ]
  },
  {
   "cell_type": "code",
   "execution_count": null,
   "metadata": {},
   "outputs": [],
   "source": []
  }
 ],
 "metadata": {
  "language_info": {
   "codemirror_mode": {
    "name": "ipython",
    "version": 3
   },
   "file_extension": ".py",
   "mimetype": "text/x-python",
   "name": "python",
   "nbconvert_exporter": "python",
   "pygments_lexer": "ipython3",
   "version": "3.7.6-final"
  },
  "orig_nbformat": 2,
  "kernelspec": {
   "name": "python3",
   "display_name": "Python 3"
  }
 },
 "nbformat": 4,
 "nbformat_minor": 2
}